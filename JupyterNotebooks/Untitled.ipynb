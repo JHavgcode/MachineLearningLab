{
 "cells": [
  {
   "cell_type": "code",
   "execution_count": 6,
   "id": "greek-twist",
   "metadata": {},
   "outputs": [],
   "source": [
    "import pandas as pd\n",
    "import numpy as np"
   ]
  },
  {
   "cell_type": "code",
   "execution_count": 7,
   "id": "representative-index",
   "metadata": {},
   "outputs": [],
   "source": [
    "repeating_log = \"| <LOG_LEVEL> | StrategyThread 8 | SortedQueryMonitor | che.solr.impl.SortedQueryMonitor 205 | 471 - catalog-core-standardframework - 2.15.0 | Couldn't get results from completed federated query for sourceId = GDES java.util.concurrent.ExecutionException: ddf.catalog.source.UnsupportedQueryException: Could not complete solr query. at java.util.concurrent.FutureTask.report(FutureTask.java:122) ~[?:?] at java.util.concurrent.FutureTask.get(FutureTask.java:192) ~[?:?] at ddf.catalog.cache.solr.impl.SortedQueryMonitor.run(SortedQueryMonitor.java:176) [471:catalog-core-standardframework:2.15.0] at java.util.concurrent.Executors$RunnableAdapter.call(Executors.java:511) [?:?] at java.util.concurrent.FutureTask.run(FutureTask.java:266) [?:?] at java.util.concurrent.ThreadPoolExecutor.runWorker(ThreadPoolExecutor.java:1149) [?:?] at java.util.concurrent.ThreadPoolExecutor$Worker.run(ThreadPoolExecutor.java:624) [?:?] at java.lang.Thread.run(Thread.java:748) [?:?] Caused by: ddf.catalog.source.UnsupportedQueryException: Could not complete solr query. at ddf.catalog.source.solr.SolrMetacardClientImpl.query(SolrMetacardClientImpl.java:289) ~[?:?] at ddf.catalog.source.solr.SolrCatalogProvider.query(SolrCatalogProvider.java:207) ~[?:?] at ddf.catalog.source.solr.RemoteSolrCatalogProvider.query(RemoteSolrCatalogProvider.java:128) ~[?:?] at ddf.catalog.cache.solr.impl.CachingFederationStrategy$CallableSourceResponse.getSourceResponse(CachingFederationStrategy.java:513) ~[?:?] at ddf.catalog.cache.solr.impl.CachingFederationStrategy$CallableSourceResponse.call(CachingFederationStrategy.java:507) ~[?:?] at ddf.catalog.cache.solr.impl.CachingFederationStrategy$CallableSourceResponse.call(CachingFederationStrategy.java:493) ~[?:?] at java.util.concurrent.FutureTask.run(FutureTask.java:266) ~[?:?] ... 5 more Caused by: org.apache.solr.client.solrj.SolrServerException: java.lang.IllegalStateException: Connection pool shut down at org.apache.solr.client.solrj.impl.LBHttpSolrClient.doRequest(LBHttpSolrClient.java:523) ~[?:?] at org.apache.solr.client.solrj.impl.LBHttpSolrClient.request(LBHttpSolrClient.java:436) ~[?:?] at org.apache.solr.client.solrj.impl.CloudSolrClient.sendRequest(CloudSolrClient.java:1106) ~[?:?] at org.apache.solr.client.solrj.impl.CloudSolrClient.requestWithRetryOnStaleState(CloudSolrClient.java:886) ~[?:?] at org.apache.solr.client.solrj.impl.CloudSolrClient.requestWithRetryOnStaleState(CloudSolrClient.java:948) ~[?:?] at org.apache.solr.client.solrj.impl.CloudSolrClient.request(CloudSolrClient.java:819) ~[?:?] at org.apache.solr.client.solrj.SolrRequest.process(SolrRequest.java:194) ~[?:?] at org.apache.solr.client.solrj.SolrClient.query(SolrClient.java:974) ~[?:?] at org.apache.solr.client.solrj.SolrClient.query(SolrClient.java:990) ~[?:?] at org.codice.solr.factory.impl.SolrClientProxy.lambda$query$46(SolrClientProxy.java:403) ~[?:?] at org.codice.solr.factory.impl.SolrClientAdapter.handle(SolrClientAdapter.java:276) ~[?:?] at org.codice.solr.factory.impl.SolrClientProxy.query(SolrClientProxy.java:403) ~[?:?] at ddf.catalog.source.solr.SolrMetacardClientImpl.query(SolrMetacardClientImpl.java:231) ~[?:?] at ddf.catalog.source.solr.SolrCatalogProvider.query(SolrCatalogProvider.java:207) ~[?:?] at ddf.catalog.source.solr.RemoteSolrCatalogProvider.query(RemoteSolrCatalogProvider.java:128) ~[?:?] at ddf.catalog.cache.solr.impl.CachingFederationStrategy$CallableSourceResponse.getSourceResponse(CachingFederationStrategy.java:513) ~[?:?] at ddf.catalog.cache.solr.impl.CachingFederationStrategy$CallableSourceResponse.call(CachingFederationStrategy.java:507) ~[?:?] at ddf.catalog.cache.solr.impl.CachingFederationStrategy$CallableSourceResponse.call(CachingFederationStrategy.java:493) ~[?:?] at java.util.concurrent.FutureTask.run(FutureTask.java:266) ~[?:?] ... 5 more Caused by: java.lang.IllegalStateException: Connection pool shut down at org.apache.http.util.Asserts.check(Asserts.java:34) ~[?:?] at org.apache.http.pool.AbstractConnPool.lease(AbstractConnPool.java:191) ~[?:?] at org.apache.http.impl.conn.PoolingHttpClientConnectionManager.requestConnection(PoolingHttpClientConnectionManager.java:267) ~[?:?] at org.apache.http.impl.execchain.MainClientExec.execute(MainClientExec.java:176) ~[?:?] at org.apache.http.impl.execchain.ProtocolExec.execute(ProtocolExec.java:185) ~[?:?] at org.apache.http.impl.execchain.RetryExec.execute(RetryExec.java:89) ~[?:?] at org.apache.http.impl.execchain.RedirectExec.execute(RedirectExec.java:110) ~[?:?] at org.apache.http.impl.client.InternalHttpClient.doExecute(InternalHttpClient.java:185) ~[?:?] at org.apache.http.impl.client.CloseableHttpClient.execute(CloseableHttpClient.java:83) ~[?:?] at org.apache.http.impl.client.CloseableHttpClient.execute(CloseableHttpClient.java:56) ~[?:?] at org.apache.solr.client.solrj.impl.HttpSolrClient.executeMethod(HttpSolrClient.java:542) ~[?:?] at org.apache.solr.client.solrj.impl.HttpSolrClient.request(HttpSolrClient.java:255) ~[?:?] at org.apache.solr.client.solrj.impl.HttpSolrClient.request(HttpSolrClient.java:244) ~[?:?] at org.apache.solr.client.solrj.impl.LBHttpSolrClient.doRequest(LBHttpSolrClient.java:483) ~[?:?] at org.apache.solr.client.solrj.impl.LBHttpSolrClient.request(LBHttpSolrClient.java:436) ~[?:?] at org.apache.solr.client.solrj.impl.CloudSolrClient.sendRequest(CloudSolrClient.java:1106) ~[?:?] at org.apache.solr.client.solrj.impl.CloudSolrClient.requestWithRetryOnStaleState(CloudSolrClient.java:886) ~[?:?] at org.apache.solr.client.solrj.impl.CloudSolrClient.requestWithRetryOnStaleState(CloudSolrClient.java:948) ~[?:?] at org.apache.solr.client.solrj.impl.CloudSolrClient.request(CloudSolrClient.java:819) ~[?:?] at org.apache.solr.client.solrj.SolrRequest.process(SolrRequest.java:194) ~[?:?] at org.apache.solr.client.solrj.SolrClient.query(SolrClient.java:974) ~[?:?] at org.apache.solr.client.solrj.SolrClient.query(SolrClient.java:990) ~[?:?] at org.codice.solr.factory.impl.SolrClientProxy.lambda$query$46(SolrClientProxy.java:403) ~[?:?] at org.codice.solr.factory.impl.SolrClientAdapter.handle(SolrClientAdapter.java:276) ~[?:?] at org.codice.solr.factory.impl.SolrClientProxy.query(SolrClientProxy.java:403) ~[?:?] at ddf.catalog.source.solr.SolrMetacardClientImpl.query(SolrMetacardClientImpl.java:231) ~[?:?] at ddf.catalog.source.solr.SolrCatalogProvider.query(SolrCatalogProvider.java:207) ~[?:?] at ddf.catalog.source.solr.RemoteSolrCatalogProvider.query(RemoteSolrCatalogProvider.java:128) ~[?:?] at ddf.catalog.cache.solr.impl.CachingFederationStrategy$CallableSourceResponse.getSourceResponse(CachingFederationStrategy.java:513) ~[?:?] at ddf.catalog.cache.solr.impl.CachingFederationStrategy$CallableSourceResponse.call(CachingFederationStrategy.java:507) ~[?:?] at ddf.catalog.cache.solr.impl.CachingFederationStrategy$CallableSourceResponse.call(CachingFederationStrategy.java:493) ~[?:?] at java.util.concurrent.FutureTask.run(FutureTask.java:266) ~[?:?] ... 5 more\""
   ]
  },
  {
   "cell_type": "code",
   "execution_count": 8,
   "id": "governmental-middle",
   "metadata": {},
   "outputs": [
    {
     "data": {
      "text/plain": [
       "6973"
      ]
     },
     "execution_count": 8,
     "metadata": {},
     "output_type": "execute_result"
    }
   ],
   "source": [
    "len(repeating_log)"
   ]
  },
  {
   "cell_type": "code",
   "execution_count": 10,
   "id": "elementary-reach",
   "metadata": {},
   "outputs": [
    {
     "data": {
      "text/html": [
       "<div>\n",
       "<style scoped>\n",
       "    .dataframe tbody tr th:only-of-type {\n",
       "        vertical-align: middle;\n",
       "    }\n",
       "\n",
       "    .dataframe tbody tr th {\n",
       "        vertical-align: top;\n",
       "    }\n",
       "\n",
       "    .dataframe thead th {\n",
       "        text-align: right;\n",
       "    }\n",
       "</style>\n",
       "<table border=\"1\" class=\"dataframe\">\n",
       "  <thead>\n",
       "    <tr style=\"text-align: right;\">\n",
       "      <th></th>\n",
       "      <th>repeat</th>\n",
       "    </tr>\n",
       "  </thead>\n",
       "  <tbody>\n",
       "    <tr>\n",
       "      <th>0</th>\n",
       "      <td>|</td>\n",
       "    </tr>\n",
       "    <tr>\n",
       "      <th>1</th>\n",
       "      <td>&lt;LOG_LEVEL&gt;</td>\n",
       "    </tr>\n",
       "    <tr>\n",
       "      <th>2</th>\n",
       "      <td>|</td>\n",
       "    </tr>\n",
       "    <tr>\n",
       "      <th>3</th>\n",
       "      <td>StrategyThread</td>\n",
       "    </tr>\n",
       "    <tr>\n",
       "      <th>4</th>\n",
       "      <td>8</td>\n",
       "    </tr>\n",
       "  </tbody>\n",
       "</table>\n",
       "</div>"
      ],
      "text/plain": [
       "           repeat\n",
       "0               |\n",
       "1     <LOG_LEVEL>\n",
       "2               |\n",
       "3  StrategyThread\n",
       "4               8"
      ]
     },
     "execution_count": 10,
     "metadata": {},
     "output_type": "execute_result"
    }
   ],
   "source": [
    "logs = pd.DataFrame(data={\"repeat\":np.array(repeating_log.split())})\n",
    "logs.head()"
   ]
  },
  {
   "cell_type": "code",
   "execution_count": 14,
   "id": "beneficial-ultimate",
   "metadata": {},
   "outputs": [
    {
     "data": {
      "text/plain": [
       "array(['|', '<LOG_LEVEL>', 'StrategyThread', '8', 'SortedQueryMonitor',\n",
       "       'che.solr.impl.SortedQueryMonitor', '205', '471', '-',\n",
       "       'catalog-core-standardframework', '2.15.0', \"Couldn't\", 'get',\n",
       "       'results', 'from', 'completed', 'federated', 'query', 'for',\n",
       "       'sourceId', '=', 'GDES',\n",
       "       'java.util.concurrent.ExecutionException:',\n",
       "       'ddf.catalog.source.UnsupportedQueryException:', 'Could', 'not',\n",
       "       'complete', 'solr', 'query.', 'at',\n",
       "       'java.util.concurrent.FutureTask.report(FutureTask.java:122)',\n",
       "       '~[?:?]',\n",
       "       'java.util.concurrent.FutureTask.get(FutureTask.java:192)',\n",
       "       'ddf.catalog.cache.solr.impl.SortedQueryMonitor.run(SortedQueryMonitor.java:176)',\n",
       "       '[471:catalog-core-standardframework:2.15.0]',\n",
       "       'java.util.concurrent.Executors$RunnableAdapter.call(Executors.java:511)',\n",
       "       '[?:?]',\n",
       "       'java.util.concurrent.FutureTask.run(FutureTask.java:266)',\n",
       "       'java.util.concurrent.ThreadPoolExecutor.runWorker(ThreadPoolExecutor.java:1149)',\n",
       "       'java.util.concurrent.ThreadPoolExecutor$Worker.run(ThreadPoolExecutor.java:624)',\n",
       "       'java.lang.Thread.run(Thread.java:748)', 'Caused', 'by:',\n",
       "       'ddf.catalog.source.solr.SolrMetacardClientImpl.query(SolrMetacardClientImpl.java:289)',\n",
       "       'ddf.catalog.source.solr.SolrCatalogProvider.query(SolrCatalogProvider.java:207)',\n",
       "       'ddf.catalog.source.solr.RemoteSolrCatalogProvider.query(RemoteSolrCatalogProvider.java:128)',\n",
       "       'ddf.catalog.cache.solr.impl.CachingFederationStrategy$CallableSourceResponse.getSourceResponse(CachingFederationStrategy.java:513)',\n",
       "       'ddf.catalog.cache.solr.impl.CachingFederationStrategy$CallableSourceResponse.call(CachingFederationStrategy.java:507)',\n",
       "       'ddf.catalog.cache.solr.impl.CachingFederationStrategy$CallableSourceResponse.call(CachingFederationStrategy.java:493)',\n",
       "       '...', '5', 'more',\n",
       "       'org.apache.solr.client.solrj.SolrServerException:',\n",
       "       'java.lang.IllegalStateException:', 'Connection', 'pool', 'shut',\n",
       "       'down',\n",
       "       'org.apache.solr.client.solrj.impl.LBHttpSolrClient.doRequest(LBHttpSolrClient.java:523)',\n",
       "       'org.apache.solr.client.solrj.impl.LBHttpSolrClient.request(LBHttpSolrClient.java:436)',\n",
       "       'org.apache.solr.client.solrj.impl.CloudSolrClient.sendRequest(CloudSolrClient.java:1106)',\n",
       "       'org.apache.solr.client.solrj.impl.CloudSolrClient.requestWithRetryOnStaleState(CloudSolrClient.java:886)',\n",
       "       'org.apache.solr.client.solrj.impl.CloudSolrClient.requestWithRetryOnStaleState(CloudSolrClient.java:948)',\n",
       "       'org.apache.solr.client.solrj.impl.CloudSolrClient.request(CloudSolrClient.java:819)',\n",
       "       'org.apache.solr.client.solrj.SolrRequest.process(SolrRequest.java:194)',\n",
       "       'org.apache.solr.client.solrj.SolrClient.query(SolrClient.java:974)',\n",
       "       'org.apache.solr.client.solrj.SolrClient.query(SolrClient.java:990)',\n",
       "       'org.codice.solr.factory.impl.SolrClientProxy.lambda$query$46(SolrClientProxy.java:403)',\n",
       "       'org.codice.solr.factory.impl.SolrClientAdapter.handle(SolrClientAdapter.java:276)',\n",
       "       'org.codice.solr.factory.impl.SolrClientProxy.query(SolrClientProxy.java:403)',\n",
       "       'ddf.catalog.source.solr.SolrMetacardClientImpl.query(SolrMetacardClientImpl.java:231)',\n",
       "       'org.apache.http.util.Asserts.check(Asserts.java:34)',\n",
       "       'org.apache.http.pool.AbstractConnPool.lease(AbstractConnPool.java:191)',\n",
       "       'org.apache.http.impl.conn.PoolingHttpClientConnectionManager.requestConnection(PoolingHttpClientConnectionManager.java:267)',\n",
       "       'org.apache.http.impl.execchain.MainClientExec.execute(MainClientExec.java:176)',\n",
       "       'org.apache.http.impl.execchain.ProtocolExec.execute(ProtocolExec.java:185)',\n",
       "       'org.apache.http.impl.execchain.RetryExec.execute(RetryExec.java:89)',\n",
       "       'org.apache.http.impl.execchain.RedirectExec.execute(RedirectExec.java:110)',\n",
       "       'org.apache.http.impl.client.InternalHttpClient.doExecute(InternalHttpClient.java:185)',\n",
       "       'org.apache.http.impl.client.CloseableHttpClient.execute(CloseableHttpClient.java:83)',\n",
       "       'org.apache.http.impl.client.CloseableHttpClient.execute(CloseableHttpClient.java:56)',\n",
       "       'org.apache.solr.client.solrj.impl.HttpSolrClient.executeMethod(HttpSolrClient.java:542)',\n",
       "       'org.apache.solr.client.solrj.impl.HttpSolrClient.request(HttpSolrClient.java:255)',\n",
       "       'org.apache.solr.client.solrj.impl.HttpSolrClient.request(HttpSolrClient.java:244)',\n",
       "       'org.apache.solr.client.solrj.impl.LBHttpSolrClient.doRequest(LBHttpSolrClient.java:483)'],\n",
       "      dtype=object)"
      ]
     },
     "execution_count": 14,
     "metadata": {},
     "output_type": "execute_result"
    }
   ],
   "source": [
    "unique_words = logs[\"repeat\"].unique()\n",
    "unique_words"
   ]
  },
  {
   "cell_type": "code",
   "execution_count": 18,
   "id": "surprised-region",
   "metadata": {},
   "outputs": [
    {
     "data": {
      "text/plain": [
       "[\"| <LOG_LEVEL> | StrategyThread 8 | SortedQueryMonitor | che.solr.impl.SortedQueryMonitor 205 | 471 - catalog-core-standardframework - 2.15.0 | Couldn't get results from completed federated query for sourceId = GDES java.util.concurrent.ExecutionException: ddf.catalog.source.UnsupportedQueryException: Could not complete solr query. at java.util.concurrent.FutureTask.report(FutureTask.java:122) ~[?:?] at java.util.concurrent.FutureTask.get(FutureTask.java:192) ~[?:?] at ddf.catalog.cache.solr.impl.SortedQueryMonitor.run(SortedQueryMonitor.java:176) [471:catalog-core-standardframework:2.15.0] at java.util.concurrent.Executors$RunnableAdapter.call(Executors.java:511) [?:?] at java.util.concurrent.FutureTask.run(FutureTask.java:266) [?:?] at java.util.concurrent.ThreadPoolExecutor.runWorker(ThreadPoolExecutor.java:1149) [?:?] at java.util.concurrent.ThreadPoolExecutor$Worker.run(ThreadPoolExecutor.java:624) [?:?] at java.lang.Thread.run(Thread.java:748) [?:?] \",\n",
       " ' ddf.catalog.source.UnsupportedQueryException: Could not complete solr query. at ddf.catalog.source.solr.SolrMetacardClientImpl.query(SolrMetacardClientImpl.java:289) ~[?:?] at ddf.catalog.source.solr.SolrCatalogProvider.query(SolrCatalogProvider.java:207) ~[?:?] at ddf.catalog.source.solr.RemoteSolrCatalogProvider.query(RemoteSolrCatalogProvider.java:128) ~[?:?] at ddf.catalog.cache.solr.impl.CachingFederationStrategy$CallableSourceResponse.getSourceResponse(CachingFederationStrategy.java:513) ~[?:?] at ddf.catalog.cache.solr.impl.CachingFederationStrategy$CallableSourceResponse.call(CachingFederationStrategy.java:507) ~[?:?] at ddf.catalog.cache.solr.impl.CachingFederationStrategy$CallableSourceResponse.call(CachingFederationStrategy.java:493) ~[?:?] at java.util.concurrent.FutureTask.run(FutureTask.java:266) ~[?:?] ... 5 more ',\n",
       " ' org.apache.solr.client.solrj.SolrServerException: java.lang.IllegalStateException: Connection pool shut down at org.apache.solr.client.solrj.impl.LBHttpSolrClient.doRequest(LBHttpSolrClient.java:523) ~[?:?] at org.apache.solr.client.solrj.impl.LBHttpSolrClient.request(LBHttpSolrClient.java:436) ~[?:?] at org.apache.solr.client.solrj.impl.CloudSolrClient.sendRequest(CloudSolrClient.java:1106) ~[?:?] at org.apache.solr.client.solrj.impl.CloudSolrClient.requestWithRetryOnStaleState(CloudSolrClient.java:886) ~[?:?] at org.apache.solr.client.solrj.impl.CloudSolrClient.requestWithRetryOnStaleState(CloudSolrClient.java:948) ~[?:?] at org.apache.solr.client.solrj.impl.CloudSolrClient.request(CloudSolrClient.java:819) ~[?:?] at org.apache.solr.client.solrj.SolrRequest.process(SolrRequest.java:194) ~[?:?] at org.apache.solr.client.solrj.SolrClient.query(SolrClient.java:974) ~[?:?] at org.apache.solr.client.solrj.SolrClient.query(SolrClient.java:990) ~[?:?] at org.codice.solr.factory.impl.SolrClientProxy.lambda$query$46(SolrClientProxy.java:403) ~[?:?] at org.codice.solr.factory.impl.SolrClientAdapter.handle(SolrClientAdapter.java:276) ~[?:?] at org.codice.solr.factory.impl.SolrClientProxy.query(SolrClientProxy.java:403) ~[?:?] at ddf.catalog.source.solr.SolrMetacardClientImpl.query(SolrMetacardClientImpl.java:231) ~[?:?] at ddf.catalog.source.solr.SolrCatalogProvider.query(SolrCatalogProvider.java:207) ~[?:?] at ddf.catalog.source.solr.RemoteSolrCatalogProvider.query(RemoteSolrCatalogProvider.java:128) ~[?:?] at ddf.catalog.cache.solr.impl.CachingFederationStrategy$CallableSourceResponse.getSourceResponse(CachingFederationStrategy.java:513) ~[?:?] at ddf.catalog.cache.solr.impl.CachingFederationStrategy$CallableSourceResponse.call(CachingFederationStrategy.java:507) ~[?:?] at ddf.catalog.cache.solr.impl.CachingFederationStrategy$CallableSourceResponse.call(CachingFederationStrategy.java:493) ~[?:?] at java.util.concurrent.FutureTask.run(FutureTask.java:266) ~[?:?] ... 5 more ',\n",
       " ' java.lang.IllegalStateException: Connection pool shut down at org.apache.http.util.Asserts.check(Asserts.java:34) ~[?:?] at org.apache.http.pool.AbstractConnPool.lease(AbstractConnPool.java:191) ~[?:?] at org.apache.http.impl.conn.PoolingHttpClientConnectionManager.requestConnection(PoolingHttpClientConnectionManager.java:267) ~[?:?] at org.apache.http.impl.execchain.MainClientExec.execute(MainClientExec.java:176) ~[?:?] at org.apache.http.impl.execchain.ProtocolExec.execute(ProtocolExec.java:185) ~[?:?] at org.apache.http.impl.execchain.RetryExec.execute(RetryExec.java:89) ~[?:?] at org.apache.http.impl.execchain.RedirectExec.execute(RedirectExec.java:110) ~[?:?] at org.apache.http.impl.client.InternalHttpClient.doExecute(InternalHttpClient.java:185) ~[?:?] at org.apache.http.impl.client.CloseableHttpClient.execute(CloseableHttpClient.java:83) ~[?:?] at org.apache.http.impl.client.CloseableHttpClient.execute(CloseableHttpClient.java:56) ~[?:?] at org.apache.solr.client.solrj.impl.HttpSolrClient.executeMethod(HttpSolrClient.java:542) ~[?:?] at org.apache.solr.client.solrj.impl.HttpSolrClient.request(HttpSolrClient.java:255) ~[?:?] at org.apache.solr.client.solrj.impl.HttpSolrClient.request(HttpSolrClient.java:244) ~[?:?] at org.apache.solr.client.solrj.impl.LBHttpSolrClient.doRequest(LBHttpSolrClient.java:483) ~[?:?] at org.apache.solr.client.solrj.impl.LBHttpSolrClient.request(LBHttpSolrClient.java:436) ~[?:?] at org.apache.solr.client.solrj.impl.CloudSolrClient.sendRequest(CloudSolrClient.java:1106) ~[?:?] at org.apache.solr.client.solrj.impl.CloudSolrClient.requestWithRetryOnStaleState(CloudSolrClient.java:886) ~[?:?] at org.apache.solr.client.solrj.impl.CloudSolrClient.requestWithRetryOnStaleState(CloudSolrClient.java:948) ~[?:?] at org.apache.solr.client.solrj.impl.CloudSolrClient.request(CloudSolrClient.java:819) ~[?:?] at org.apache.solr.client.solrj.SolrRequest.process(SolrRequest.java:194) ~[?:?] at org.apache.solr.client.solrj.SolrClient.query(SolrClient.java:974) ~[?:?] at org.apache.solr.client.solrj.SolrClient.query(SolrClient.java:990) ~[?:?] at org.codice.solr.factory.impl.SolrClientProxy.lambda$query$46(SolrClientProxy.java:403) ~[?:?] at org.codice.solr.factory.impl.SolrClientAdapter.handle(SolrClientAdapter.java:276) ~[?:?] at org.codice.solr.factory.impl.SolrClientProxy.query(SolrClientProxy.java:403) ~[?:?] at ddf.catalog.source.solr.SolrMetacardClientImpl.query(SolrMetacardClientImpl.java:231) ~[?:?] at ddf.catalog.source.solr.SolrCatalogProvider.query(SolrCatalogProvider.java:207) ~[?:?] at ddf.catalog.source.solr.RemoteSolrCatalogProvider.query(RemoteSolrCatalogProvider.java:128) ~[?:?] at ddf.catalog.cache.solr.impl.CachingFederationStrategy$CallableSourceResponse.getSourceResponse(CachingFederationStrategy.java:513) ~[?:?] at ddf.catalog.cache.solr.impl.CachingFederationStrategy$CallableSourceResponse.call(CachingFederationStrategy.java:507) ~[?:?] at ddf.catalog.cache.solr.impl.CachingFederationStrategy$CallableSourceResponse.call(CachingFederationStrategy.java:493) ~[?:?] at java.util.concurrent.FutureTask.run(FutureTask.java:266) ~[?:?] ... 5 more']"
      ]
     },
     "execution_count": 18,
     "metadata": {},
     "output_type": "execute_result"
    }
   ],
   "source": [
    "arr = repeating_log.split(\"Caused by:\")\n",
    "arr"
   ]
  },
  {
   "cell_type": "code",
   "execution_count": null,
   "id": "precious-alaska",
   "metadata": {},
   "outputs": [],
   "source": []
  }
 ],
 "metadata": {
  "kernelspec": {
   "display_name": "Python 3",
   "language": "python",
   "name": "python3"
  },
  "language_info": {
   "codemirror_mode": {
    "name": "ipython",
    "version": 3
   },
   "file_extension": ".py",
   "mimetype": "text/x-python",
   "name": "python",
   "nbconvert_exporter": "python",
   "pygments_lexer": "ipython3",
   "version": "3.8.8"
  }
 },
 "nbformat": 4,
 "nbformat_minor": 5
}
