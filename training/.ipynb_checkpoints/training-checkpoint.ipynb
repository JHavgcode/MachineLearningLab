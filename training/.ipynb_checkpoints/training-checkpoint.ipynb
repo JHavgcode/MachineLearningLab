{
 "cells": [
  {
   "cell_type": "code",
   "execution_count": 1,
   "id": "threaded-evolution",
   "metadata": {},
   "outputs": [],
   "source": [
    "%%capture\n",
    "!pip install drain3"
   ]
  },
  {
   "cell_type": "code",
   "execution_count": 13,
   "id": "fitting-bookmark",
   "metadata": {},
   "outputs": [],
   "source": [
    "from scipy import stats \n",
    "from drain3.drain import Drain\n",
    "from matplotlib import pyplot as plt\n",
    "\n",
    "import joblib\n",
    "import numpy as np\n",
    "import seaborn as sns\n",
    "import pandas as pd"
   ]
  },
  {
   "cell_type": "markdown",
   "id": "compressed-relevance",
   "metadata": {},
   "source": [
    "### Import Cluster Hit Arrays"
   ]
  },
  {
   "cell_type": "code",
   "execution_count": 29,
   "id": "joint-insulin",
   "metadata": {},
   "outputs": [],
   "source": [
    "cluster_hits = joblib.load('/home/jovyan/results/matrices_dict.joblib')"
   ]
  },
  {
   "cell_type": "code",
   "execution_count": 30,
   "id": "beautiful-backing",
   "metadata": {},
   "outputs": [],
   "source": [
    "cluster_hits_dict = joblib.load('/home/jovyan/results/hits_dict.joblib')"
   ]
  },
  {
   "cell_type": "code",
   "execution_count": 31,
   "id": "celtic-insertion",
   "metadata": {},
   "outputs": [],
   "source": [
    "containers = joblib.load('/home/jovyan/results/containers.joblib')"
   ]
  },
  {
   "cell_type": "code",
   "execution_count": 32,
   "id": "banned-kazakhstan",
   "metadata": {},
   "outputs": [],
   "source": [
    "labels = joblib.load('/home/jovyan/results/labels.joblib')"
   ]
  },
  {
   "cell_type": "code",
   "execution_count": 33,
   "id": "chief-legislation",
   "metadata": {},
   "outputs": [],
   "source": [
    "collections = joblib.load('/home/jovyan/results/collections.joblib')"
   ]
  },
  {
   "cell_type": "code",
   "execution_count": 34,
   "id": "interstate-tissue",
   "metadata": {},
   "outputs": [],
   "source": [
    "dd = joblib.load('/home/jovyan/results/drain_dict.joblib')"
   ]
  },
  {
   "cell_type": "markdown",
   "id": "tight-brooklyn",
   "metadata": {},
   "source": [
    "### Validate Data"
   ]
  },
  {
   "cell_type": "code",
   "execution_count": 45,
   "id": "fifteen-quarter",
   "metadata": {},
   "outputs": [
    {
     "name": "stdout",
     "output_type": "stream",
     "text": [
      "20040\n"
     ]
    }
   ],
   "source": [
    "sum = 0\n",
    "for container in containers:\n",
    "    sum += len(dd[container].clusters)*len(labels)*len(collections)\n",
    "    \n",
    "print(sum)"
   ]
  },
  {
   "cell_type": "code",
   "execution_count": 53,
   "id": "confidential-jewel",
   "metadata": {},
   "outputs": [
    {
     "name": "stdout",
     "output_type": "stream",
     "text": [
      "ID=18    : size=1604      : <*> <*> INFO 1 --- <*> m.a.g.st.mms.catalog.MmsCatalogHelper : <*> <*> mission metacard (ROME <*>\n",
      "2\n",
      "1.0\n",
      "3434\n"
     ]
    }
   ],
   "source": [
    "counter = 0\n",
    "for idx, cols in cluster_hits_dict.items():\n",
    "    for label, l_vals in cols.items():\n",
    "        for container, c_vals in l_vals.items():\n",
    "            sigma = np.sum(cluster_hits[idx][label][container], axis=1)\n",
    "            for cluster, hits in c_vals.items():\n",
    "                if hits[1] != sigma[hits[0]-1]:\n",
    "                    print(cluster)\n",
    "                    print(hits[1])\n",
    "                    print(sigma[hits[0]-1])\n",
    "                counter+=1\n",
    "                \n",
    "print(counter)"
   ]
  },
  {
   "cell_type": "code",
   "execution_count": 54,
   "id": "occupational-honey",
   "metadata": {},
   "outputs": [
    {
     "name": "stdout",
     "output_type": "stream",
     "text": [
      "270450\n"
     ]
    }
   ],
   "source": [
    "c = '<*> <*> INFO 1 --- <*> m.a.g.st.mms.catalog.MmsCatalogHelper : <*> <*> mission metacard (ROME <*>'\n",
    "count = 0\n",
    "for idx, cols in cluster_hits_dict.items():\n",
    "    for label, l_vals in cols.items():\n",
    "        for container, c_vals in l_vals.items():\n",
    "            for cluster, hits in c_vals.items():\n",
    "                # if cluster.get_template() == c:\n",
    "                count += hits[1]\n",
    "print(count)"
   ]
  },
  {
   "cell_type": "markdown",
   "id": "quiet-quarter",
   "metadata": {},
   "source": [
    "### Record Means"
   ]
  },
  {
   "cell_type": "code",
   "execution_count": 19,
   "id": "searching-legislature",
   "metadata": {},
   "outputs": [],
   "source": [
    "# The cluster_hits array has the following key structure: [collection][label][container]\n",
    "means_dict = {}\n",
    "\n",
    "for idx, col_val in cluster_hits.items():\n",
    "    means_dict[idx] = {}\n",
    "    for label, l_val in col_val.items():\n",
    "        means_dict[idx][label] = {}\n",
    "        for container, c_val in l_val.items():\n",
    "            Mu = stats.trim_mean(c_val, axis=1, proportiontocut=0.05)\n",
    "            means_dict[idx][label][container] = Mu"
   ]
  },
  {
   "cell_type": "code",
   "execution_count": 9,
   "id": "contemporary-mattress",
   "metadata": {},
   "outputs": [
    {
     "data": {
      "text/plain": [
       "{'core.soaesb-dead-soa-process',\n",
       " 'healthy',\n",
       " 'newscene-bundle-stopped',\n",
       " 'nitf-messaging-bundle-stopped'}"
      ]
     },
     "execution_count": 9,
     "metadata": {},
     "output_type": "execute_result"
    }
   ],
   "source": [
    "labels"
   ]
  },
  {
   "cell_type": "code",
   "execution_count": 10,
   "id": "uniform-holly",
   "metadata": {},
   "outputs": [
    {
     "data": {
      "text/plain": [
       "{0, 1, 2, 3, 4, 5, 6, 7, 8, 9, 10, 11, 12, 13, 14}"
      ]
     },
     "execution_count": 10,
     "metadata": {},
     "output_type": "execute_result"
    }
   ],
   "source": [
    "collections"
   ]
  },
  {
   "cell_type": "markdown",
   "id": "forty-boring",
   "metadata": {},
   "source": [
    "### Remove Clusters With Zero Variability"
   ]
  },
  {
   "cell_type": "code",
   "execution_count": 27,
   "id": "right-recall",
   "metadata": {},
   "outputs": [],
   "source": [
    "var_clusters = {idx: {label: {container: set() for container in containers} for label in labels} for idx in collections}\n",
    "\n",
    "for idx, col_records in cluster_hits.items():\n",
    "    for label, l_records in col_records.items():\n",
    "        for container, hits in l_records.items():\n",
    "            drain_model = dd[container]\n",
    "            zero_rows = np.where(~hits.any(axis=1))[0]\n",
    "            for row_idx in zero_rows:\n",
    "                cluster = drain_model.id_to_cluster[row_idx+1] #drain clusters are 1 based and the array is 0 based hence the +1 term\n",
    "                var_clusters[idx][label][container].add(cluster.get_template())\n",
    "                \n",
    "non_variable_clusters = {}\n",
    "# produce list of clusters for each container with non-zero variability:\n",
    "for container in containers:\n",
    "    master_cluster = {c.get_template() for c in dd[container].clusters}\n",
    "    zero_set = {c.get_template() for c in dd[container].clusters}\n",
    "    for idx in collections:\n",
    "        for label in labels:\n",
    "            non_zero_set = master_cluster - var_clusters[idx][label][container]\n",
    "            zero_set -= non_zero_set\n",
    "    non_variable_clusters[container] = zero_set      "
   ]
  },
  {
   "cell_type": "code",
   "execution_count": 28,
   "id": "valued-testament",
   "metadata": {},
   "outputs": [
    {
     "data": {
      "text/plain": [
       "{'prometheus.metrics.soaesb': set(),\n",
       " '1.zookeeper.soaesb': set(),\n",
       " 'grafana.metrics.soaesb': set(),\n",
       " 'brokerStack_broker-master-1.1.py5vm49suvnd58w3oo2z7s3h5': set(),\n",
       " 'core.soaesb': set(),\n",
       " 'filebeat': set(),\n",
       " '1.solr.soaesb': {'2021-01-21 <*> INFO <*> <*> c:metacard_cache s:shard1 <*> [c:metacard_cache s:shard1 <*> <*> <*> <*> <*> <*> <*> <*> main{ExitableDirectoryReader(UninvertingDirectoryReader(Uninverting(_1(7.4.0):C6/4:delGen=1) Uninverting(_2(7.4.0):C4/1) Uninverting(_3(7.4.0):C1)))}',\n",
       "  '2021-01-21 <*> INFO <*> <*> s:shard1 <*> <*> o.a.s.s.SolrIndexSearcher Opening <*> <*>',\n",
       "  '2021-01-21 <*> INFO <*> [ ] <*> <*> <*>',\n",
       "  '2021-01-22 <*> INFO (searcherExecutor-24-thread-1) [ ] <*> <*> <*> <*> <*> Searcher@194973d4[catalog_shard1_replica_n2] main{ExitableDirectoryReader(UninvertingDirectoryReader(Uninverting(_p(7.4.0):C6984/6:delGen=2) Uninverting(_1(7.4.0):C2984/2:delGen=1) Uninverting(_4(7.4.0):C4035) Uninverting(_9l(7.4.0):c471/6:delGen=1) Uninverting(_a5(7.4.0):c517/6:delGen=2) Uninverting(_9v(7.4.0):c489/6:delGen=2) Uninverting(_a6(7.4.0):C2/1:delGen=1) Uninverting(_a7(7.4.0):C8/4:delGen=2) Uninverting(_a8(7.4.0):C10/5:delGen=1) Uninverting(_a9(7.4.0):C12/6:delGen=3) Uninverting(_aa(7.4.0):C6/3:delGen=1) Uninverting(_ab(7.4.0):C8/4:delGen=1) Uninverting(_ac(7.4.0):C10/5) Uninverting(_ad(7.4.0):C8/3) Uninverting(_ae(7.4.0):C10)))}',\n",
       "  '2021-01-22 <*> INFO (searcherExecutor-24-thread-1) [ ] <*> <*> <*> <*> <*> Searcher@197a23d4[catalog_shard1_replica_n2] main{ExitableDirectoryReader(UninvertingDirectoryReader(Uninverting(_p(7.4.0):C6984/6:delGen=2) Uninverting(_1(7.4.0):C2984/2:delGen=1) Uninverting(_4(7.4.0):C4035) Uninverting(_ap(7.4.0):C1538/6:delGen=2) Uninverting(_aj(7.4.0):C2/1:delGen=1) Uninverting(_al(7.4.0):C6/3:delGen=1) Uninverting(_aq(7.4.0):C10/5:delGen=1) Uninverting(_ar(7.4.0):C8/4:delGen=2) Uninverting(_as(7.4.0):C10/5:delGen=1) Uninverting(_at(7.4.0):C18/9:delGen=2) Uninverting(_au(7.4.0):C8/4:delGen=1) Uninverting(_av(7.4.0):C10/5) Uninverting(_aw(7.4.0):C12/3:delGen=1) Uninverting(_ax(7.4.0):C6)))}',\n",
       "  '2021-01-22 <*> INFO (searcherExecutor-24-thread-1) [ ] <*> <*> <*> <*> <*> Searcher@2e55ce76[catalog_shard1_replica_n2] main{ExitableDirectoryReader(UninvertingDirectoryReader(Uninverting(_p(7.4.0):C6984/6:delGen=2) Uninverting(_1(7.4.0):C2984/2:delGen=1) Uninverting(_4(7.4.0):C4035) Uninverting(_9l(7.4.0):c471/6:delGen=1) Uninverting(_a5(7.4.0):c517/6:delGen=2) Uninverting(_9v(7.4.0):c489/6:delGen=2) Uninverting(_a6(7.4.0):C2/1:delGen=1) Uninverting(_a7(7.4.0):C8/4:delGen=2) Uninverting(_a8(7.4.0):C10/5:delGen=1) Uninverting(_a9(7.4.0):C12/6:delGen=2) Uninverting(_aa(7.4.0):C6/3) Uninverting(_ab(7.4.0):C8/3) Uninverting(_ac(7.4.0):C10)))}',\n",
       "  '2021-01-22 <*> INFO (searcherExecutor-24-thread-1) [ ] <*> <*> <*> <*> <*> Searcher@3244b7f2[catalog_shard1_replica_n2] main{ExitableDirectoryReader(UninvertingDirectoryReader(Uninverting(_p(7.4.0):C6984/6:delGen=2) Uninverting(_1(7.4.0):C2984/2:delGen=1) Uninverting(_4(7.4.0):C4035) Uninverting(_af(7.4.0):c508/6:delGen=1) Uninverting(_a5(7.4.0):c517/6:delGen=2) Uninverting(_9v(7.4.0):c489/6:delGen=2) Uninverting(_ag(7.4.0):C8/4:delGen=1) Uninverting(_ah(7.4.0):C10/5) Uninverting(_ai(7.4.0):C16/3:delGen=1) Uninverting(_aj(7.4.0):C2)))}',\n",
       "  '2021-01-22 <*> INFO (searcherExecutor-24-thread-1) [ ] <*> <*> <*> <*> <*> Searcher@3cab0aaf[catalog_shard1_replica_n2] main{ExitableDirectoryReader(UninvertingDirectoryReader(Uninverting(_p(7.4.0):C6984/6:delGen=2) Uninverting(_1(7.4.0):C2984/2:delGen=1) Uninverting(_4(7.4.0):C4035) Uninverting(_ap(7.4.0):C1538/6:delGen=1) Uninverting(_aj(7.4.0):C2/1:delGen=1) Uninverting(_al(7.4.0):C6/3:delGen=1) Uninverting(_aq(7.4.0):C10/5) Uninverting(_ar(7.4.0):C8/3) Uninverting(_as(7.4.0):C10)))}',\n",
       "  '2021-01-22 <*> INFO (searcherExecutor-24-thread-1) [ ] <*> <*> <*> <*> <*> Searcher@47fc6000[catalog_shard1_replica_n2] main{ExitableDirectoryReader(UninvertingDirectoryReader(Uninverting(_p(7.4.0):C6984/6:delGen=2) Uninverting(_1(7.4.0):C2984/2:delGen=1) Uninverting(_4(7.4.0):C4035) Uninverting(_ap(7.4.0):C1538/6:delGen=2) Uninverting(_aj(7.4.0):C2/1:delGen=1) Uninverting(_al(7.4.0):C6/3:delGen=1) Uninverting(_aq(7.4.0):C10/5:delGen=1) Uninverting(_ar(7.4.0):C8/4:delGen=1) Uninverting(_as(7.4.0):C10/5) Uninverting(_at(7.4.0):C18/3:delGen=1)))}',\n",
       "  '2021-01-22 <*> INFO (searcherExecutor-24-thread-1) [ ] <*> <*> <*> <*> <*> Searcher@69f11bdc[catalog_shard1_replica_n2] main{ExitableDirectoryReader(UninvertingDirectoryReader(Uninverting(_p(7.4.0):C6984/6:delGen=2) Uninverting(_1(7.4.0):C2984/2:delGen=1) Uninverting(_4(7.4.0):C4035) Uninverting(_af(7.4.0):c508/6:delGen=1) Uninverting(_a5(7.4.0):c517/6:delGen=2) Uninverting(_9v(7.4.0):c489/6:delGen=2) Uninverting(_ag(7.4.0):C8/4:delGen=2) Uninverting(_ah(7.4.0):C10/5:delGen=1) Uninverting(_ai(7.4.0):C16/8:delGen=3) Uninverting(_aj(7.4.0):C2/1:delGen=1) Uninverting(_ak(7.4.0):C12/6:delGen=2) Uninverting(_al(7.4.0):C6/3) Uninverting(_am(7.4.0):C8/3) Uninverting(_an(7.4.0):C10)))}',\n",
       "  '2021-01-22 <*> INFO (searcherExecutor-24-thread-1) [ ] <*> <*> <*> <*> <*> Searcher@7150d559[catalog_shard1_replica_n2] main{ExitableDirectoryReader(UninvertingDirectoryReader(Uninverting(_p(7.4.0):C6984/6:delGen=2) Uninverting(_1(7.4.0):C2984/2:delGen=1) Uninverting(_4(7.4.0):C4035) Uninverting(_af(7.4.0):c508/6:delGen=1) Uninverting(_a5(7.4.0):c517/6:delGen=2) Uninverting(_9v(7.4.0):c489/6:delGen=2) Uninverting(_ag(7.4.0):C8/4:delGen=2) Uninverting(_ah(7.4.0):C10/5:delGen=1) Uninverting(_ai(7.4.0):C16/8:delGen=2) Uninverting(_aj(7.4.0):C2/1) Uninverting(_ak(7.4.0):C12/3:delGen=1) Uninverting(_al(7.4.0):C6)))}',\n",
       "  '2021-01-22 <*> INFO (searcherExecutor-24-thread-1) [ ] <*> <*> <*> <*> <*> Searcher@e3b25f8[catalog_shard1_replica_n2] main{ExitableDirectoryReader(UninvertingDirectoryReader(Uninverting(_p(7.4.0):C6984/6:delGen=2) Uninverting(_1(7.4.0):C2984/2:delGen=1) Uninverting(_4(7.4.0):C4035) Uninverting(_ap(7.4.0):C1538/6:delGen=2) Uninverting(_aj(7.4.0):C2/1:delGen=1) Uninverting(_al(7.4.0):C6/3:delGen=1) Uninverting(_aq(7.4.0):C10/5:delGen=1) Uninverting(_ar(7.4.0):C8/4:delGen=2) Uninverting(_as(7.4.0):C10/5:delGen=1) Uninverting(_at(7.4.0):C18/9:delGen=1) Uninverting(_au(7.4.0):C8/3) Uninverting(_av(7.4.0):C10)))}',\n",
       "  '2021-01-22 <*> INFO (searcherExecutor-25-thread-1) [ ] <*> <*> <*> <*> <*> <*> main{ExitableDirectoryReader(UninvertingDirectoryReader(Uninverting(_0(7.4.0):C4752/3:delGen=1) Uninverting(_2e(7.4.0):C3754/6:delGen=1) Uninverting(_4(7.4.0):C3991) Uninverting(_8(7.4.0):C1777) Uninverting(_9w(7.4.0):C1188/6:delGen=2) <*> <*> <*> <*> <*> <*> <*>',\n",
       "  '2021-01-22 <*> INFO (searcherExecutor-25-thread-1) [ ] <*> <*> <*> <*> <*> Searcher@1dd057bd[catalog_shard1_replica_n1] main{ExitableDirectoryReader(UninvertingDirectoryReader(Uninverting(_0(7.4.0):C4752/3:delGen=1) Uninverting(_2e(7.4.0):C3754/6:delGen=1) Uninverting(_4(7.4.0):C3991) Uninverting(_8(7.4.0):C1777) Uninverting(_9w(7.4.0):C1188/6:delGen=2) Uninverting(_9p(7.4.0):C6/3:delGen=1) Uninverting(_9x(7.4.0):C10/5:delGen=1) Uninverting(_9y(7.4.0):C12/6:delGen=3) Uninverting(_9z(7.4.0):C6/3:delGen=1) Uninverting(_a0(7.4.0):C8/4:delGen=1) Uninverting(_a1(7.4.0):C10/5) Uninverting(_a2(7.4.0):C12/3:delGen=1) Uninverting(_a3(7.4.0):C6)))}',\n",
       "  '2021-01-22 <*> INFO (searcherExecutor-25-thread-1) [ ] <*> <*> <*> <*> <*> Searcher@20570d39[catalog_shard1_replica_n1] main{ExitableDirectoryReader(UninvertingDirectoryReader(Uninverting(_0(7.4.0):C4752/3:delGen=1) Uninverting(_2e(7.4.0):C3754/6:delGen=1) Uninverting(_4(7.4.0):C3991) Uninverting(_8(7.4.0):C1777) Uninverting(_9w(7.4.0):C1188/6:delGen=2) Uninverting(_a6(7.4.0):c50/6:delGen=1) Uninverting(_a7(7.4.0):C12/6:delGen=3) Uninverting(_a8(7.4.0):C6/3:delGen=1) Uninverting(_a9(7.4.0):C8/4:delGen=2) Uninverting(_aa(7.4.0):C10/5:delGen=1) Uninverting(_ab(7.4.0):C8/4:delGen=1) Uninverting(_ac(7.4.0):C10/5) Uninverting(_ad(7.4.0):C16/3:delGen=1) Uninverting(_ae(7.4.0):C2)))}',\n",
       "  '2021-01-22 <*> INFO (searcherExecutor-25-thread-1) [ ] <*> <*> <*> <*> <*> Searcher@36029b2a[catalog_shard1_replica_n1] main{ExitableDirectoryReader(UninvertingDirectoryReader(Uninverting(_0(7.4.0):C4752/3:delGen=1) Uninverting(_2e(7.4.0):C3754/6:delGen=1) Uninverting(_4(7.4.0):C3991) Uninverting(_8(7.4.0):C1777) Uninverting(_9w(7.4.0):C1188/6:delGen=2) Uninverting(_9p(7.4.0):C6/3:delGen=1) Uninverting(_9x(7.4.0):C10/5:delGen=1) Uninverting(_9y(7.4.0):C12/6:delGen=3) Uninverting(_9z(7.4.0):C6/3:delGen=1) Uninverting(_a0(7.4.0):C8/4:delGen=2) Uninverting(_a1(7.4.0):C10/5:delGen=1) Uninverting(_a2(7.4.0):C12/6:delGen=2) Uninverting(_a3(7.4.0):C6/3) Uninverting(_a4(7.4.0):C12/3:delGen=1) Uninverting(_a5(7.4.0):C6)))}',\n",
       "  '2021-01-22 <*> INFO (searcherExecutor-25-thread-1) [ ] <*> <*> <*> <*> <*> Searcher@36a45adb[catalog_shard1_replica_n1] main{ExitableDirectoryReader(UninvertingDirectoryReader(Uninverting(_0(7.4.0):C4752/3:delGen=1) Uninverting(_2e(7.4.0):C3754/6:delGen=1) Uninverting(_4(7.4.0):C3991) Uninverting(_8(7.4.0):C1777) Uninverting(_9w(7.4.0):C1188/6:delGen=2) Uninverting(_ag(7.4.0):c92/6:delGen=2) Uninverting(_ah(7.4.0):C6/3:delGen=1) Uninverting(_ai(7.4.0):C18/9:delGen=2) Uninverting(_aj(7.4.0):C8/4:delGen=2) Uninverting(_ak(7.4.0):C10/5:delGen=1) Uninverting(_al(7.4.0):C12/6:delGen=2) Uninverting(_am(7.4.0):C6/3) Uninverting(_an(7.4.0):C8/3) Uninverting(_ao(7.4.0):C10)))}'},\n",
       " 'mmsStack_mms-app.1.g1bzbb75ulrenny5500oglgjg': {'2021-01-21 <*> INFO 1 --- <*> <*> : <*> <*> mission <*> <*> <*>'},\n",
       " 'healthcheck': set(),\n",
       " 'haproxyStack_soaesb.1.ki6obf0bgwho34sqvrqyvwnz9': set()}"
      ]
     },
     "execution_count": 28,
     "metadata": {},
     "output_type": "execute_result"
    }
   ],
   "source": [
    "non_variable_clusters"
   ]
  },
  {
   "cell_type": "code",
   "execution_count": 26,
   "id": "anticipated-master",
   "metadata": {},
   "outputs": [],
   "source": [
    "for _, cols in cluster_hits_dict.items():\n",
    "    for _, l_vals in cols.items():\n",
    "        for _, c_vals in l_vals.items():\n",
    "            for cluster, hits in c_vals.items():\n",
    "                if hits == 0:\n",
    "                    print(cluster)"
   ]
  },
  {
   "cell_type": "code",
   "execution_count": null,
   "id": "tired-police",
   "metadata": {},
   "outputs": [],
   "source": [
    "for idx in collections:\n",
    "    for label in labels:\n",
    "        container = 'mmsStack_mms-app.1.g1bzbb75ulrenny5500oglgjg'\n",
    "#cluster = '2021-01-21 <*> INFO 1 --- <*> <*> : <*> <*> mission <*> <*> <*>'\n",
    "#clusters = dd[container].clusters\n",
    "#for c in clusters:\n",
    "#    if c.get_template() == cluster:\n",
    "#        print(c.cluster_id)\n",
    "        print(cluster_hits[idx][label][container][4])"
   ]
  },
  {
   "cell_type": "code",
   "execution_count": null,
   "id": "vocational-abraham",
   "metadata": {},
   "outputs": [],
   "source": [
    "containers"
   ]
  },
  {
   "cell_type": "markdown",
   "id": "consecutive-partner",
   "metadata": {},
   "source": [
    "### Construct Means DataFrame"
   ]
  },
  {
   "cell_type": "code",
   "execution_count": null,
   "id": "certified-henry",
   "metadata": {},
   "outputs": [],
   "source": [
    "m_means = []\n",
    "m_means_labels = []\n",
    "m_clusters = []\n",
    "m_indices = []\n",
    "m_containers = []\n",
    "\n",
    "for idx, col_val in cluster_hits.items():\n",
    "    for label, l_val in col_val.items():\n",
    "        for container, c_val in l_val.items():\n",
    "            n = len(means_dict[idx][label][container])\n",
    "            drain_model = dd[container]\n",
    "            m_means += list(means_dict[idx][label][container])\n",
    "            m_means_labels += [label]*n\n",
    "            m_indices += [idx]*n\n",
    "            m_containers += [container]*n\n",
    "            for cluster in drain_model.clusters:\n",
    "                m_clusters.append(cluster.get_template())\n",
    "\n",
    "m_data = {'mean': m_means, \n",
    "          'index': m_indices,\n",
    "          'label': m_means_labels,\n",
    "          'cluster': m_clusters,\n",
    "          'container': m_containers}\n",
    "\n",
    "mdf = pd.DataFrame(m_data)"
   ]
  },
  {
   "cell_type": "code",
   "execution_count": null,
   "id": "hybrid-medicaid",
   "metadata": {},
   "outputs": [],
   "source": [
    "dims = (30, 16)\n",
    "fig, ax = plt.subplots(figsize=dims)\n",
    "g = sns.scatterplot(data=mdf, x=\"cluster\", y=\"mean\", hue=\"label\")\n",
    "ax.tick_params(labelbottom=False) "
   ]
  },
  {
   "cell_type": "code",
   "execution_count": null,
   "id": "endangered-trace",
   "metadata": {},
   "outputs": [],
   "source": [
    "'''\n",
    "We will encode each label as such:\n",
    "    1 := 'core.soaesb-dead-soa-process'\n",
    "    2 := 'healthy'\n",
    "    3 := 'newscene-bundle-stopped'\n",
    "    4 := 'nitf-messaging-bundle-stopped'\n",
    "'''\n",
    "\n",
    "z_means = []\n",
    "z_means_labels = []\n",
    "z_clusters = []\n",
    "z_indices = []\n",
    "z_containers = []\n",
    "\n",
    "for idx, col_val in cluster_hits.items():\n",
    "    for label, l_val in col_val.items():\n",
    "        for container, c_val in l_val.items():\n",
    "            drain_model = dd[container]\n",
    "            for cluster in drain_model.clusters:\n",
    "                if means_dict[idx][label][container][cluster.cluster_id-1] > 0:\n",
    "                    z_clusters.append(cluster.get_template())\n",
    "                    z_means.append(means_dict[idx][label][container][cluster.cluster_id-1])\n",
    "                    z_indices.append(idx)\n",
    "                    z_means_labels.append(label)\n",
    "                    z_containers.append(container)\n",
    "\n",
    "z_data = {'mean': z_means, \n",
    "          'index': z_indices,\n",
    "          'label': z_means_labels,\n",
    "          'cluster': z_clusters,\n",
    "          'container': z_containers}\n",
    "\n",
    "zdf = pd.DataFrame(z_data)"
   ]
  },
  {
   "cell_type": "code",
   "execution_count": null,
   "id": "suburban-excerpt",
   "metadata": {},
   "outputs": [],
   "source": [
    "d_total_hits = []\n",
    "d_labels = []\n",
    "d_clusters = []\n",
    "d_indices = []\n",
    "d_containers = []\n",
    "\n",
    "for idx, col_val in cluster_hits.items():\n",
    "    for label, l_val in col_val.items():\n",
    "        for container, c_val in l_val.items():\n",
    "            drain_model = dd[container]\n",
    "            for cluster in drain_model.clusters:\n",
    "                hits = list(cluster_hits[idx][label][container][cluster.cluster_id-1])\n",
    "                n = len(hits)\n",
    "                d_clusters+=[cluster.get_template()]*n\n",
    "                d_total_hits+=hits\n",
    "                d_indices+=[idx]*n\n",
    "                d_labels+=[label]*n\n",
    "                d_containers+=[container]*n\n",
    "\n",
    "data = {'hits': d_total_hits, \n",
    "        'index': d_indices,\n",
    "        'label': d_labels,\n",
    "        'cluster': d_clusters,\n",
    "        'container': d_containers}\n",
    "\n",
    "df = pd.DataFrame(data)"
   ]
  },
  {
   "cell_type": "code",
   "execution_count": null,
   "id": "loose-implementation",
   "metadata": {},
   "outputs": [],
   "source": [
    "for _, item in data.items():\n",
    "    print(len(item))"
   ]
  },
  {
   "cell_type": "code",
   "execution_count": null,
   "id": "abstract-fifteen",
   "metadata": {},
   "outputs": [],
   "source": [
    "df.head()"
   ]
  },
  {
   "cell_type": "code",
   "execution_count": null,
   "id": "varying-calgary",
   "metadata": {},
   "outputs": [],
   "source": [
    "sdf = df[df['container']=='grafana.metrics.soaesb']\n",
    "dims = (25, 12)\n",
    "#fig, ax = plt.subplots(figsize=dims)\n",
    "g = sns.displot(sdf, x=\"hits\", row=\"cluster\", col=\"label\")\n",
    "#ax.tick_params(labelbottom=False) "
   ]
  },
  {
   "cell_type": "markdown",
   "id": "circular-essay",
   "metadata": {},
   "source": [
    "### Display the poisson distributions"
   ]
  },
  {
   "cell_type": "markdown",
   "id": "streaming-taylor",
   "metadata": {},
   "source": [
    "#### Generate plot data"
   ]
  },
  {
   "cell_type": "code",
   "execution_count": null,
   "id": "approximate-overhead",
   "metadata": {},
   "outputs": [],
   "source": [
    "collection = 1\n",
    "container = 'grafana.metrics.soaesb'\n",
    "drain_model = dd[container]\n",
    "X = {}\n",
    "Y = {}\n",
    "for label in labels:\n",
    "    X[label] = {}\n",
    "    Y[label] = {}\n",
    "    for cluster in drain_model.clusters:\n",
    "        pois = p_dict[collection][label][container][cluster.get_template()]\n",
    "        x = np.arange(poisson.ppf(0.01, pois.mean()),\n",
    "                      poisson.ppf(0.99, pois.mean()))\n",
    "        X[label][cluster.get_template()] = x\n",
    "        Y[label][cluster.get_template()] = poisson.pmf(x, pois.mean())"
   ]
  },
  {
   "cell_type": "markdown",
   "id": "historical-webmaster",
   "metadata": {},
   "source": [
    "#### Display plots"
   ]
  },
  {
   "cell_type": "code",
   "execution_count": null,
   "id": "buried-macintosh",
   "metadata": {},
   "outputs": [],
   "source": [
    "fig, axes = plt.subplots(len(drain_model.clusters), 1)\n",
    "sns.set()\n",
    "fig.suptitle(f'Poisson PMFs for {container}')\n",
    "\n",
    "for cluster in drain_model.clusters:\n",
    "    count = 0\n",
    "    data = []\n",
    "    for label in labels:\n",
    "        sns.barplot(y=Y[label][cluster.get_template()], ax=axes[count])\n",
    "    count+=1"
   ]
  },
  {
   "cell_type": "code",
   "execution_count": null,
   "id": "bored-magnitude",
   "metadata": {},
   "outputs": [],
   "source": [
    "[y for y in Y[label]['<*> lvl=info msg=\"Alert Rule returned no data\" logger=alerting.evalContext ruleId=3 name=\"Panel Title alert\" changing state to=keep_state'] for label in labels]"
   ]
  },
  {
   "cell_type": "code",
   "execution_count": null,
   "id": "fancy-colony",
   "metadata": {},
   "outputs": [],
   "source": []
  },
  {
   "cell_type": "code",
   "execution_count": null,
   "id": "fatal-tribune",
   "metadata": {},
   "outputs": [],
   "source": []
  }
 ],
 "metadata": {
  "kernelspec": {
   "display_name": "Python 3",
   "language": "python",
   "name": "python3"
  },
  "language_info": {
   "codemirror_mode": {
    "name": "ipython",
    "version": 3
   },
   "file_extension": ".py",
   "mimetype": "text/x-python",
   "name": "python",
   "nbconvert_exporter": "python",
   "pygments_lexer": "ipython3",
   "version": "3.8.8"
  }
 },
 "nbformat": 4,
 "nbformat_minor": 5
}
