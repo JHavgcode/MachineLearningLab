{
 "cells": [
  {
   "cell_type": "code",
   "execution_count": 367,
   "id": "d2e937d7",
   "metadata": {},
   "outputs": [],
   "source": [
    "%%capture\n",
    "\n",
    "!python -m spacy download en_core_web_lg"
   ]
  },
  {
   "cell_type": "code",
   "execution_count": 59,
   "id": "43cf7d5f",
   "metadata": {},
   "outputs": [],
   "source": [
    "%%capture\n",
    "\n",
    "# -- External Import -- #\n",
    "import pandas as pd\n",
    "import numpy as np\n",
    "import logging\n",
    "import sys\n",
    "import sklearn\n",
    "import spacy\n",
    "from spacy.matcher import Matcher, PhraseMatcher\n",
    "from spacy.lang.en import English\n",
    "\n",
    "\n",
    "# -- Internal Import-- #\n",
    "from libs.data.utils import get_data\n",
    "from libs.data.corpus_preprocessing import clean_logs, data_preprocessing_pipeline"
   ]
  },
  {
   "cell_type": "code",
   "execution_count": 60,
   "id": "239abf16",
   "metadata": {},
   "outputs": [],
   "source": [
    "logging.basicConfig(\n",
    "    format='%(asctime)s %(levelname)s | %(message)s',\n",
    "    level=logging.INFO,\n",
    "    stream=sys.stdout\n",
    ")\n",
    "\n",
    "logger = logging.getLogger('notebook_logger')"
   ]
  },
  {
   "cell_type": "code",
   "execution_count": 61,
   "id": "269a851e",
   "metadata": {},
   "outputs": [
    {
     "name": "stdout",
     "output_type": "stream",
     "text": [
      "../../data/train_data/2021-10-09_1633771683/SoaesbLogsPipeline_base.csv\n",
      "../../data/train_data/2021-10-11_1633944527/SoaesbLogsPipeline_base.csv\n",
      "../../data/train_data/2021-10-12_1634030876/SoaesbLogsPipeline_base.csv\n",
      "../../data/train_data/2021-10-10_1633858095/SoaesbLogsPipeline_base.csv\n",
      "../../data/train_data/2021-10-12_1634016461/SoaesbLogsPipeline_base.csv\n",
      "../../data/train_data/2021-10-12_1634026757/SoaesbLogsPipeline_base.csv\n",
      "../../data/train_data/2021-10-12_1634053503/SoaesbLogsPipeline_base.csv\n"
     ]
    }
   ],
   "source": [
    "data = get_data('../../data/train_data')"
   ]
  },
  {
   "cell_type": "code",
   "execution_count": 62,
   "id": "d9ac6ed4",
   "metadata": {},
   "outputs": [
    {
     "data": {
      "application/vnd.jupyter.widget-view+json": {
       "model_id": "27296a81f42f4e77b09805cc3cc3abe0",
       "version_major": 2,
       "version_minor": 0
      },
      "text/plain": [
       "Walking through database...:   0%|          | 0/7 [00:00<?, ?it/s]"
      ]
     },
     "metadata": {},
     "output_type": "display_data"
    },
    {
     "data": {
      "application/vnd.jupyter.widget-view+json": {
       "model_id": "",
       "version_major": 2,
       "version_minor": 0
      },
      "text/plain": [
       "  0%|          | 0/5 [00:00<?, ?it/s]"
      ]
     },
     "metadata": {},
     "output_type": "display_data"
    },
    {
     "data": {
      "application/vnd.jupyter.widget-view+json": {
       "model_id": "",
       "version_major": 2,
       "version_minor": 0
      },
      "text/plain": [
       "  0%|          | 0/5 [00:00<?, ?it/s]"
      ]
     },
     "metadata": {},
     "output_type": "display_data"
    },
    {
     "data": {
      "application/vnd.jupyter.widget-view+json": {
       "model_id": "",
       "version_major": 2,
       "version_minor": 0
      },
      "text/plain": [
       "  0%|          | 0/5 [00:00<?, ?it/s]"
      ]
     },
     "metadata": {},
     "output_type": "display_data"
    },
    {
     "data": {
      "application/vnd.jupyter.widget-view+json": {
       "model_id": "",
       "version_major": 2,
       "version_minor": 0
      },
      "text/plain": [
       "  0%|          | 0/5 [00:00<?, ?it/s]"
      ]
     },
     "metadata": {},
     "output_type": "display_data"
    },
    {
     "data": {
      "application/vnd.jupyter.widget-view+json": {
       "model_id": "",
       "version_major": 2,
       "version_minor": 0
      },
      "text/plain": [
       "  0%|          | 0/5 [00:00<?, ?it/s]"
      ]
     },
     "metadata": {},
     "output_type": "display_data"
    },
    {
     "data": {
      "application/vnd.jupyter.widget-view+json": {
       "model_id": "",
       "version_major": 2,
       "version_minor": 0
      },
      "text/plain": [
       "  0%|          | 0/5 [00:00<?, ?it/s]"
      ]
     },
     "metadata": {},
     "output_type": "display_data"
    },
    {
     "data": {
      "application/vnd.jupyter.widget-view+json": {
       "model_id": "",
       "version_major": 2,
       "version_minor": 0
      },
      "text/plain": [
       "  0%|          | 0/5 [00:00<?, ?it/s]"
      ]
     },
     "metadata": {},
     "output_type": "display_data"
    }
   ],
   "source": [
    "cleaned_logs_dict = data_preprocessing_pipeline(data)"
   ]
  },
  {
   "cell_type": "code",
   "execution_count": 63,
   "id": "7203d7b9",
   "metadata": {},
   "outputs": [
    {
     "name": "stdout",
     "output_type": "stream",
     "text": [
      "Number of logs: 1581462\n",
      "Number of unique logs: 42216\n"
     ]
    }
   ],
   "source": [
    "cat_logs = pd.concat(cleaned_logs_dict)\n",
    "cat_logs = cat_logs.reset_index(drop=True)\n",
    "print(f'Number of logs: {len(cat_logs.index)}')\n",
    "\n",
    "cat_logs = cat_logs.drop_duplicates('log')\n",
    "cat_logs = cat_logs.reset_index(drop=True)\n",
    "print(f'Number of unique logs: {len(cat_logs.index)}')"
   ]
  },
  {
   "cell_type": "code",
   "execution_count": 64,
   "id": "f08f93db",
   "metadata": {},
   "outputs": [],
   "source": [
    "from spacy.lang.en import English\n",
    "from spacy.lang.en.stop_words import STOP_WORDS"
   ]
  },
  {
   "cell_type": "code",
   "execution_count": 69,
   "id": "a36a076b",
   "metadata": {},
   "outputs": [],
   "source": [
    "nlp = spacy.load(\"en_core_web_lg\")\n",
    "# parser = English()"
   ]
  },
  {
   "cell_type": "code",
   "execution_count": 80,
   "id": "0c3c5622",
   "metadata": {},
   "outputs": [
    {
     "data": {
      "text/html": [
       "<div>\n",
       "<style scoped>\n",
       "    .dataframe tbody tr th:only-of-type {\n",
       "        vertical-align: middle;\n",
       "    }\n",
       "\n",
       "    .dataframe tbody tr th {\n",
       "        vertical-align: top;\n",
       "    }\n",
       "\n",
       "    .dataframe thead th {\n",
       "        text-align: right;\n",
       "    }\n",
       "</style>\n",
       "<table border=\"1\" class=\"dataframe\">\n",
       "  <thead>\n",
       "    <tr style=\"text-align: right;\">\n",
       "      <th></th>\n",
       "      <th>container_name</th>\n",
       "      <th>log</th>\n",
       "      <th>label</th>\n",
       "    </tr>\n",
       "  </thead>\n",
       "  <tbody>\n",
       "    <tr>\n",
       "      <th>0</th>\n",
       "      <td>1.master.broker.soaesb</td>\n",
       "      <td>ERROR org.apache.activemq.artemis.core.server...</td>\n",
       "      <td>healthy</td>\n",
       "    </tr>\n",
       "    <tr>\n",
       "      <th>1</th>\n",
       "      <td>1.backup.broker.soaesb</td>\n",
       "      <td>WARN org.apache.activemq.artemis.core.server ...</td>\n",
       "      <td>healthy</td>\n",
       "    </tr>\n",
       "    <tr>\n",
       "      <th>2</th>\n",
       "      <td>3.master.broker.soaesb</td>\n",
       "      <td>ERROR org.apache.activemq.artemis.core.server...</td>\n",
       "      <td>healthy</td>\n",
       "    </tr>\n",
       "    <tr>\n",
       "      <th>3</th>\n",
       "      <td>healthcheck</td>\n",
       "      <td>INFO HealthCheckService:106 UNHEALTHY unicorn...</td>\n",
       "      <td>healthy</td>\n",
       "    </tr>\n",
       "    <tr>\n",
       "      <th>4</th>\n",
       "      <td>healthcheck</td>\n",
       "      <td>INFO HealthCheckService:106 UNHEALTHY unicorn...</td>\n",
       "      <td>healthy</td>\n",
       "    </tr>\n",
       "  </tbody>\n",
       "</table>\n",
       "</div>"
      ],
      "text/plain": [
       "           container_name                                                log  \\\n",
       "0  1.master.broker.soaesb   ERROR org.apache.activemq.artemis.core.server...   \n",
       "1  1.backup.broker.soaesb   WARN org.apache.activemq.artemis.core.server ...   \n",
       "2  3.master.broker.soaesb   ERROR org.apache.activemq.artemis.core.server...   \n",
       "3             healthcheck   INFO HealthCheckService:106 UNHEALTHY unicorn...   \n",
       "4             healthcheck   INFO HealthCheckService:106 UNHEALTHY unicorn...   \n",
       "\n",
       "     label  \n",
       "0  healthy  \n",
       "1  healthy  \n",
       "2  healthy  \n",
       "3  healthy  \n",
       "4  healthy  "
      ]
     },
     "execution_count": 80,
     "metadata": {},
     "output_type": "execute_result"
    }
   ],
   "source": [
    "cat_logs.head()"
   ]
  },
  {
   "cell_type": "code",
   "execution_count": 52,
   "id": "379a6209",
   "metadata": {},
   "outputs": [],
   "source": [
    "# doc = nlp(cat_logs['log'][2100])\n",
    "\n",
    "# filtered_words = []\n",
    "\n",
    "# for word in doc:\n",
    "#     if word.is_stop==False:\n",
    "#         filtered_words.append(word)\n",
    "# #         print(word.text, word.pos_)\n",
    "        \n",
    "# filtered_words, cat_logs['log'][0]"
   ]
  },
  {
   "cell_type": "code",
   "execution_count": 71,
   "id": "7807b694",
   "metadata": {},
   "outputs": [],
   "source": [
    "import string\n",
    "\n",
    "punctuations = string.punctuation"
   ]
  },
  {
   "cell_type": "code",
   "execution_count": 183,
   "id": "53d9e0c8",
   "metadata": {},
   "outputs": [],
   "source": [
    "def tokenize_spacy(log):\n",
    "    tokens = nlp(log)\n",
    "    \n",
    "    lemmas = []\n",
    "    for tok in tokens:\n",
    "        lemmas.append(tok.lemma_.lower().strip() if tok.lemma_ != \"-PRON-\" else tok.lower_)\n",
    "        \n",
    "    tokens = lemmas\n",
    "    tokens = [tok for tok in tokens if tok not in STOP_WORDS]\n",
    "    tokens = [tok for tok in tokens if tok not in punctuations]\n",
    "    \n",
    "    return tokens\n",
    "    \n",
    "#     tokens = [ word.lemma_.lower().strip() for word in tokens]\n",
    "#     tokens = [ word.text.lower() for word in tokens ]\n",
    "    \n",
    "#     tokens = [ word for word in tokens if word not in STOP_WORDS and word not in punctuations ]\n",
    "    \n",
    "#     return tokens"
   ]
  },
  {
   "cell_type": "code",
   "execution_count": 357,
   "id": "68cb9b48",
   "metadata": {},
   "outputs": [],
   "source": [
    "from sklearn.model_selection import train_test_split, GridSearchCV\n",
    "from sklearn.feature_extraction.text import TfidfVectorizer, CountVectorizer\n",
    "from sklearn.ensemble import RandomForestClassifier\n",
    "from sklearn.linear_model import LogisticRegression\n",
    "from sklearn.pipeline import Pipeline\n",
    "from sklearn.multiclass import OneVsRestClassifier\n",
    "from sklearn.naive_bayes import MultinomialNB\n",
    "from sklearn.svm import SVC"
   ]
  },
  {
   "cell_type": "code",
   "execution_count": 294,
   "id": "d9a882ea",
   "metadata": {},
   "outputs": [
    {
     "data": {
      "text/plain": [
       "array(['healthcheck', '1.solr.soaesb', '2.solr.soaesb', '3.solr.soaesb',\n",
       "       'ddf', 'security-handler-pki', 'org.apache.karaf.shell.core',\n",
       "       'solr-dependencies', 'solr-factory-impl', 'catalog-solr-provider',\n",
       "       'catalog-core-standardframework', 'persistence-core-listeners',\n",
       "       '1.zookeeper.soaesb', '2.zookeeper.soaesb', 'soaesb',\n",
       "       'org.apache.sshd.core', '3.zookeeper.soaesb',\n",
       "       'org.apache.karaf.services.eventadmin', 'reflex-router-app',\n",
       "       'mms-app', 'catalog-rest-impl', 'org.apache.aries.blueprint.core',\n",
       "       'security-sts-ldapclaimshandler'], dtype=object)"
      ]
     },
     "execution_count": 294,
     "metadata": {},
     "output_type": "execute_result"
    }
   ],
   "source": [
    "cat_logs = cat_logs[~cat_logs['container_name'].str.contains('broker')]\n",
    "cat_logs['container_name'].unique()"
   ]
  },
  {
   "cell_type": "code",
   "execution_count": 369,
   "id": "61b2ce7f",
   "metadata": {},
   "outputs": [
    {
     "data": {
      "text/html": [
       "<div>\n",
       "<style scoped>\n",
       "    .dataframe tbody tr th:only-of-type {\n",
       "        vertical-align: middle;\n",
       "    }\n",
       "\n",
       "    .dataframe tbody tr th {\n",
       "        vertical-align: top;\n",
       "    }\n",
       "\n",
       "    .dataframe thead th {\n",
       "        text-align: right;\n",
       "    }\n",
       "</style>\n",
       "<table border=\"1\" class=\"dataframe\">\n",
       "  <thead>\n",
       "    <tr style=\"text-align: right;\">\n",
       "      <th></th>\n",
       "      <th>container_name</th>\n",
       "      <th>log</th>\n",
       "      <th>label</th>\n",
       "    </tr>\n",
       "  </thead>\n",
       "  <tbody>\n",
       "    <tr>\n",
       "      <th>3</th>\n",
       "      <td>healthcheck</td>\n",
       "      <td>INFO HealthCheckService:106 UNHEALTHY unicorn...</td>\n",
       "      <td>healthy</td>\n",
       "    </tr>\n",
       "    <tr>\n",
       "      <th>4</th>\n",
       "      <td>healthcheck</td>\n",
       "      <td>INFO HealthCheckService:106 UNHEALTHY unicorn...</td>\n",
       "      <td>healthy</td>\n",
       "    </tr>\n",
       "    <tr>\n",
       "      <th>5</th>\n",
       "      <td>healthcheck</td>\n",
       "      <td>INFO HealthCheckService:106 HEALTHY render /t...</td>\n",
       "      <td>healthy</td>\n",
       "    </tr>\n",
       "    <tr>\n",
       "      <th>6</th>\n",
       "      <td>healthcheck</td>\n",
       "      <td>INFO HealthCheckService:106</td>\n",
       "      <td>healthy</td>\n",
       "    </tr>\n",
       "    <tr>\n",
       "      <th>7</th>\n",
       "      <td>healthcheck</td>\n",
       "      <td>INFO HealthCheckService:106 UNHEALTHY rome ro...</td>\n",
       "      <td>healthy</td>\n",
       "    </tr>\n",
       "  </tbody>\n",
       "</table>\n",
       "</div>"
      ],
      "text/plain": [
       "  container_name                                                log    label\n",
       "3    healthcheck   INFO HealthCheckService:106 UNHEALTHY unicorn...  healthy\n",
       "4    healthcheck   INFO HealthCheckService:106 UNHEALTHY unicorn...  healthy\n",
       "5    healthcheck   INFO HealthCheckService:106 HEALTHY render /t...  healthy\n",
       "6    healthcheck                       INFO HealthCheckService:106   healthy\n",
       "7    healthcheck   INFO HealthCheckService:106 UNHEALTHY rome ro...  healthy"
      ]
     },
     "execution_count": 369,
     "metadata": {},
     "output_type": "execute_result"
    }
   ],
   "source": [
    "cat_logs.head()"
   ]
  },
  {
   "cell_type": "code",
   "execution_count": 371,
   "id": "22a57012",
   "metadata": {},
   "outputs": [],
   "source": [
    "count_vectorizer = CountVectorizer(tokenizer=tokenize_spacy, ngram_range=(3,3))"
   ]
  },
  {
   "cell_type": "code",
   "execution_count": 372,
   "id": "f327aa1a",
   "metadata": {},
   "outputs": [
    {
     "data": {
      "text/plain": [
       "<20334x44796 sparse matrix of type '<class 'numpy.int64'>'\n",
       "\twith 760639 stored elements in Compressed Sparse Row format>"
      ]
     },
     "execution_count": 372,
     "metadata": {},
     "output_type": "execute_result"
    }
   ],
   "source": [
    "count_vectorizer.fit_transform(cat_logs['log'])"
   ]
  },
  {
   "cell_type": "code",
   "execution_count": 295,
   "id": "c123877a",
   "metadata": {},
   "outputs": [],
   "source": [
    "X = cat_logs['log']\n",
    "y_labels = cat_logs['label']"
   ]
  },
  {
   "cell_type": "code",
   "execution_count": null,
   "id": "c99059ab",
   "metadata": {},
   "outputs": [],
   "source": []
  },
  {
   "cell_type": "code",
   "execution_count": 297,
   "id": "573950f4",
   "metadata": {},
   "outputs": [
    {
     "data": {
      "text/plain": [
       "array(['healthy', 'locked-ldap-account', 'split-brain',\n",
       "       'nitf-messaging-bundle-stopped', 'zookeeper-dead-containers',\n",
       "       'core.soaesb-dead-soa-container', 'newscene-bundle-stopped',\n",
       "       'unreachable-ldap', 'unreachable-unicorn',\n",
       "       'core.soaesb-dead-soa-process', 'unreachable-render',\n",
       "       'solr-dead-containers'], dtype=object)"
      ]
     },
     "execution_count": 297,
     "metadata": {},
     "output_type": "execute_result"
    }
   ],
   "source": [
    "cat_logs['label'].unique()"
   ]
  },
  {
   "cell_type": "code",
   "execution_count": 298,
   "id": "8471e7b0",
   "metadata": {},
   "outputs": [],
   "source": [
    "X_train, X_test, y_train, y_test = train_test_split(X, y_labels, test_size=0.2)"
   ]
  },
  {
   "cell_type": "code",
   "execution_count": 358,
   "id": "ee846cf4",
   "metadata": {},
   "outputs": [],
   "source": [
    "# classifier = RandomForestClassifier(n_estimators=500, criterion='gini', max_depth=None)\n",
    "classifier = LogisticRegression(max_iter=5000, random_state=0, warm_start=True)\n",
    "# classifier = MultinomialNB()\n",
    "# classifier = SVC(kernel='poly', random_state=0)\n",
    "\n",
    "# vectorizer = TfidfVectorizer(tokenizer=tokenize_spacy)\n",
    "vectorizer = CountVectorizer(tokenizer=tokenize_spacy, ngram_range=(3,3))\n",
    "\n",
    "# one_vs_rest = OneVsRestClassifier(classifier)"
   ]
  },
  {
   "cell_type": "code",
   "execution_count": 359,
   "id": "c816c977",
   "metadata": {},
   "outputs": [],
   "source": [
    "class predictor(sklearn.base.TransformerMixin):\n",
    "    def transform(self, X, **transform_params):\n",
    "        return [clean_text(text) for text in X]\n",
    "    \n",
    "    def fit(self, X, y=None, **fit_params):\n",
    "        return self\n",
    "    \n",
    "    def get_params(self, deep=True):\n",
    "        return {}\n",
    "    \n",
    "def clean_text(text):\n",
    "    return text.strip().lower()"
   ]
  },
  {
   "cell_type": "code",
   "execution_count": 360,
   "id": "6cbc9968",
   "metadata": {},
   "outputs": [],
   "source": [
    "pipe = Pipeline([('cleaner', predictor()),\n",
    "                ('vectorizer', vectorizer),\n",
    "                ('classifier', classifier)])"
   ]
  },
  {
   "cell_type": "code",
   "execution_count": 361,
   "id": "8833f717",
   "metadata": {},
   "outputs": [
    {
     "data": {
      "text/plain": [
       "Pipeline(steps=[('cleaner', <__main__.predictor object at 0x7fdf2a899850>),\n",
       "                ('vectorizer',\n",
       "                 CountVectorizer(ngram_range=(3, 3),\n",
       "                                 tokenizer=<function tokenize_spacy at 0x7fdf2df40790>)),\n",
       "                ('classifier', SVC(kernel='poly', random_state=0))])"
      ]
     },
     "execution_count": 361,
     "metadata": {},
     "output_type": "execute_result"
    }
   ],
   "source": [
    "pipe.fit(X_train, y_train)"
   ]
  },
  {
   "cell_type": "code",
   "execution_count": 362,
   "id": "1747e1e7",
   "metadata": {},
   "outputs": [],
   "source": [
    "from sklearn.metrics import accuracy_score, precision_score, recall_score, confusion_matrix"
   ]
  },
  {
   "cell_type": "code",
   "execution_count": 363,
   "id": "7357dc03",
   "metadata": {},
   "outputs": [],
   "source": [
    "y_pred = pipe.predict(X_test)"
   ]
  },
  {
   "cell_type": "code",
   "execution_count": 364,
   "id": "8d14b647",
   "metadata": {},
   "outputs": [
    {
     "name": "stdout",
     "output_type": "stream",
     "text": [
      "Accuracy: 0.16006884681583478\n",
      "Precision: 0.6080702056200173\n",
      "Recall: 0.13403043542703533\n",
      "[[ 20   0   3   0   2   0   0   0   4 207   2   0]\n",
      " [  0   0   0   0   0   0   0   0   0 175   0   0]\n",
      " [  0   0  33   0   0   0   0   0   1 332   1   0]\n",
      " [  0   0   0   0   0   0   0   0   0 178   0   0]\n",
      " [  0   0   2   0  32   8   0   0   1 395   0   0]\n",
      " [  0   0   1   0   1  24   0   0   8 347   1   0]\n",
      " [  0   0   0   0   0   5  23   0   1 270   1   0]\n",
      " [  0   0   1   0   2   2   0   4   0 274   3   0]\n",
      " [  0   0   0   0   1   1   1   0  43 398   1   0]\n",
      " [  0   0  13   0   0   3   0   0   2 408   0   0]\n",
      " [  0   0   3   0   1   0   0   1   1 417  36   0]\n",
      " [  0   0   0   0   0   0   0   0   4 341   0  28]]\n"
     ]
    },
    {
     "name": "stderr",
     "output_type": "stream",
     "text": [
      "/opt/conda/lib/python3.8/site-packages/sklearn/metrics/_classification.py:1248: UndefinedMetricWarning: Precision is ill-defined and being set to 0.0 in labels with no predicted samples. Use `zero_division` parameter to control this behavior.\n",
      "  _warn_prf(average, modifier, msg_start, len(result))\n"
     ]
    }
   ],
   "source": [
    "print(f\"Accuracy: {accuracy_score(y_test, y_pred)}\")\n",
    "print(f\"Precision: {precision_score(y_test, y_pred, average='macro')}\")\n",
    "print(f\"Recall: {recall_score(y_test, y_pred, average='macro')}\")\n",
    "print(f\"{confusion_matrix(y_test, y_pred)}\")"
   ]
  }
 ],
 "metadata": {
  "kernelspec": {
   "display_name": "Python 3 (ipykernel)",
   "language": "python",
   "name": "python3"
  },
  "language_info": {
   "codemirror_mode": {
    "name": "ipython",
    "version": 3
   },
   "file_extension": ".py",
   "mimetype": "text/x-python",
   "name": "python",
   "nbconvert_exporter": "python",
   "pygments_lexer": "ipython3",
   "version": "3.8.8"
  }
 },
 "nbformat": 4,
 "nbformat_minor": 5
}
